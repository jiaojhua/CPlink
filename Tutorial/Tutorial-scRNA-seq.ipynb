{
 "cells": [
  {
   "cell_type": "code",
   "execution_count": 1,
   "id": "4618f354",
   "metadata": {},
   "outputs": [
    {
     "name": "stderr",
     "output_type": "stream",
     "text": [
      "载入需要的程辑包：S4Vectors\n",
      "\n",
      "载入需要的程辑包：stats4\n",
      "\n",
      "载入需要的程辑包：BiocGenerics\n",
      "\n",
      "\n",
      "载入程辑包：‘BiocGenerics’\n",
      "\n",
      "\n",
      "The following objects are masked from ‘package:stats’:\n",
      "\n",
      "    IQR, mad, sd, var, xtabs\n",
      "\n",
      "\n",
      "The following objects are masked from ‘package:base’:\n",
      "\n",
      "    anyDuplicated, aperm, append, as.data.frame, basename, cbind,\n",
      "    colnames, dirname, do.call, duplicated, eval, evalq, Filter, Find,\n",
      "    get, grep, grepl, intersect, is.unsorted, lapply, Map, mapply,\n",
      "    match, mget, order, paste, pmax, pmax.int, pmin, pmin.int,\n",
      "    Position, rank, rbind, Reduce, rownames, sapply, setdiff, sort,\n",
      "    table, tapply, union, unique, unsplit, which.max, which.min\n",
      "\n",
      "\n",
      "\n",
      "载入程辑包：‘S4Vectors’\n",
      "\n",
      "\n",
      "The following object is masked from ‘package:utils’:\n",
      "\n",
      "    findMatches\n",
      "\n",
      "\n",
      "The following objects are masked from ‘package:base’:\n",
      "\n",
      "    expand.grid, I, unname\n",
      "\n",
      "\n",
      "载入需要的程辑包：IRanges\n",
      "\n",
      "载入需要的程辑包：GenomicRanges\n",
      "\n",
      "载入需要的程辑包：GenomeInfoDb\n",
      "\n",
      "载入需要的程辑包：SummarizedExperiment\n",
      "\n",
      "载入需要的程辑包：MatrixGenerics\n",
      "\n",
      "载入需要的程辑包：matrixStats\n",
      "\n",
      "\n",
      "载入程辑包：‘MatrixGenerics’\n",
      "\n",
      "\n",
      "The following objects are masked from ‘package:matrixStats’:\n",
      "\n",
      "    colAlls, colAnyNAs, colAnys, colAvgsPerRowSet, colCollapse,\n",
      "    colCounts, colCummaxs, colCummins, colCumprods, colCumsums,\n",
      "    colDiffs, colIQRDiffs, colIQRs, colLogSumExps, colMadDiffs,\n",
      "    colMads, colMaxs, colMeans2, colMedians, colMins, colOrderStats,\n",
      "    colProds, colQuantiles, colRanges, colRanks, colSdDiffs, colSds,\n",
      "    colSums2, colTabulates, colVarDiffs, colVars, colWeightedMads,\n",
      "    colWeightedMeans, colWeightedMedians, colWeightedSds,\n",
      "    colWeightedVars, rowAlls, rowAnyNAs, rowAnys, rowAvgsPerColSet,\n",
      "    rowCollapse, rowCounts, rowCummaxs, rowCummins, rowCumprods,\n",
      "    rowCumsums, rowDiffs, rowIQRDiffs, rowIQRs, rowLogSumExps,\n",
      "    rowMadDiffs, rowMads, rowMaxs, rowMeans2, rowMedians, rowMins,\n",
      "    rowOrderStats, rowProds, rowQuantiles, rowRanges, rowRanks,\n",
      "    rowSdDiffs, rowSds, rowSums2, rowTabulates, rowVarDiffs, rowVars,\n",
      "    rowWeightedMads, rowWeightedMeans, rowWeightedMedians,\n",
      "    rowWeightedSds, rowWeightedVars\n",
      "\n",
      "\n",
      "载入需要的程辑包：Biobase\n",
      "\n",
      "Welcome to Bioconductor\n",
      "\n",
      "    Vignettes contain introductory material; view with\n",
      "    'browseVignettes()'. To cite Bioconductor, see\n",
      "    'citation(\"Biobase\")', and for packages 'citation(\"pkgname\")'.\n",
      "\n",
      "\n",
      "\n",
      "载入程辑包：‘Biobase’\n",
      "\n",
      "\n",
      "The following object is masked from ‘package:MatrixGenerics’:\n",
      "\n",
      "    rowMedians\n",
      "\n",
      "\n",
      "The following objects are masked from ‘package:matrixStats’:\n",
      "\n",
      "    anyMissing, rowMedians\n",
      "\n",
      "\n",
      "Attaching SeuratObject\n",
      "\n",
      "Seurat v4 was just loaded with SeuratObject v5; disabling v5 assays and\n",
      "validation routines, and ensuring assays work in strict v3/v4\n",
      "compatibility mode\n",
      "\n",
      "\n",
      "载入程辑包：‘Seurat’\n",
      "\n",
      "\n",
      "The following object is masked from ‘package:SummarizedExperiment’:\n",
      "\n",
      "    Assays\n",
      "\n",
      "\n",
      "载入需要的程辑包：Rcpp\n",
      "\n",
      "载入需要的程辑包：SingleCellExperiment\n",
      "\n",
      "Warning message:\n",
      "“replacing previous import ‘data.table::shift’ by ‘tictoc::shift’ when loading ‘CelliD’”\n"
     ]
    }
   ],
   "source": [
    "library(DESeq2)\n",
    "library(Seurat)\n",
    "library(harmony)\n",
    "library(ggplot2)\n",
    "library(CPlink)\n",
    "library(CelliD)\n",
    "\n",
    "setwd(\"~/scRNA-seq/\")"
   ]
  },
  {
   "cell_type": "code",
   "execution_count": 2,
   "id": "fb51837c",
   "metadata": {},
   "outputs": [],
   "source": [
    "bulk_meta <- readRDS(\"bulk_meta.rds\")\n",
    "bulk_count <- readRDS(\"bulk_count.rds\")\n",
    "sc_count <- readRDS(\"sc_count.rds\")\n",
    "sc_meta <- readRDS(\"sc_meta.rds\")"
   ]
  },
  {
   "cell_type": "code",
   "execution_count": 3,
   "id": "77f3edd5",
   "metadata": {},
   "outputs": [
    {
     "name": "stderr",
     "output_type": "stream",
     "text": [
      "Warning message:\n",
      "“Feature names cannot have underscores ('_'), replacing with dashes ('-')”\n",
      "Warning message:\n",
      "“Feature names cannot have underscores ('_'), replacing with dashes ('-')”\n",
      "Warning message:\n",
      "“The default method for RunUMAP has changed from calling Python UMAP via reticulate to the R-native UWOT using the cosine metric\n",
      "To use Python UMAP via reticulate, set umap.method to 'umap-learn' and metric to 'correlation'\n",
      "This message will be shown once per session”\n"
     ]
    }
   ],
   "source": [
    "sc_seurat <- runRNA(sc_count, meta.data = sc_meta, min.cells = 3, batch_correct = FALSE)"
   ]
  },
  {
   "cell_type": "code",
   "execution_count": 4,
   "id": "97779ed2",
   "metadata": {},
   "outputs": [
    {
     "name": "stderr",
     "output_type": "stream",
     "text": [
      "estimating size factors\n",
      "\n",
      "estimating dispersions\n",
      "\n",
      "gene-wise dispersion estimates: 62 workers\n",
      "\n",
      "mean-dispersion relationship\n",
      "\n",
      "final dispersion estimates, fitting model and testing: 62 workers\n",
      "\n",
      "-- replacing outliers and refitting for 2242 genes\n",
      "-- DESeq argument 'minReplicatesForReplace' = 7 \n",
      "-- original counts are preserved in counts(dds)\n",
      "\n",
      "estimating dispersions\n",
      "\n",
      "fitting model and testing\n",
      "\n"
     ]
    }
   ],
   "source": [
    "bulk_meta$phenotype <- relevel(bulk_meta$phenotype,ref='normal')\n",
    "Phe_Genes <- runDESeq2(bulk_count, bulk_meta, design_formula = ~ phenotype, p.adj = 0.05)\n",
    "GEs_mtx <- data.frame(markers=rownames(Phe_Genes[[2]]), logFC=Phe_Genes[[2]]$log2FoldChange)\n",
    "rownames(GEs_mtx) <- rownames(Phe_Genes[[2]])"
   ]
  },
  {
   "cell_type": "code",
   "execution_count": 5,
   "id": "66b4f2d8",
   "metadata": {},
   "outputs": [
    {
     "name": "stderr",
     "output_type": "stream",
     "text": [
      "Warning message:\n",
      "“\u001b[1m\u001b[22mThe `slot` argument of `GetAssayData()` is deprecated as of SeuratObject 5.0.0.\n",
      "\u001b[36mℹ\u001b[39m Please use the `layer` argument instead.”\n"
     ]
    }
   ],
   "source": [
    "data_matrix <- as.matrix(GetAssayData(sc_seurat, slot = \"data\"))\n",
    "nn <- sc_seurat@graphs$RNA_snn"
   ]
  },
  {
   "cell_type": "code",
   "execution_count": 6,
   "id": "053fcdea",
   "metadata": {},
   "outputs": [
    {
     "name": "stderr",
     "output_type": "stream",
     "text": [
      "Starting CPlink pipeline\n",
      "\n",
      "Running MCA on phenotype-specific features\n",
      "\n",
      "Computing Fuzzy Matrix\n",
      "\n"
     ]
    },
    {
     "name": "stdout",
     "output_type": "stream",
     "text": [
      "0.501 sec elapsed\n"
     ]
    },
    {
     "name": "stderr",
     "output_type": "stream",
     "text": [
      "Computing SVD\n",
      "\n"
     ]
    },
    {
     "name": "stdout",
     "output_type": "stream",
     "text": [
      "2.468 sec elapsed\n"
     ]
    },
    {
     "name": "stderr",
     "output_type": "stream",
     "text": [
      "Computing Coordinates\n",
      "\n"
     ]
    },
    {
     "name": "stdout",
     "output_type": "stream",
     "text": [
      "0.194 sec elapsed\n"
     ]
    },
    {
     "name": "stderr",
     "output_type": "stream",
     "text": [
      "Calculating initial phenotype association scores\n",
      "\n",
      "Restart Probability: 0.01; Seeds Ratio: 0.95\n",
      "\n",
      "Computing empirical p-values and assign CPlink+ / CPlink- labels\n",
      "\n",
      "CPlink run completed successfully\n",
      "\n"
     ]
    }
   ],
   "source": [
    "CPlink_out_mtx <- runCPlink(data_matrix, GEs_mtx, snn = nn, seed_ratio = NULL, restart_prob = NULL, \n",
    "                            sim_methods = \"cosine\", SigThreshold = 0.05)"
   ]
  },
  {
   "cell_type": "code",
   "execution_count": 7,
   "id": "fae1bfb4",
   "metadata": {},
   "outputs": [],
   "source": [
    "sc_seurat <- sc_seurat\n",
    "sc_seurat@meta.data <- cbind(sc_seurat@meta.data, \n",
    "                                  cbind(CPlink_out_mtx[[1]], CPlink_out_mtx[[2]])[rownames(sc_seurat@meta.data),])"
   ]
  },
  {
   "cell_type": "code",
   "execution_count": 8,
   "id": "57410730",
   "metadata": {},
   "outputs": [
    {
     "name": "stderr",
     "output_type": "stream",
     "text": [
      "\u001b[1m\u001b[22mScale for \u001b[32mcolour\u001b[39m is already present.\n",
      "Adding another scale for \u001b[32mcolour\u001b[39m, which will replace the existing scale.\n"
     ]
    },
    {
     "data": {
      "image/png": "[encoded data removed]",
      "text/plain": [
       "plot without title"
      ]
     },
     "metadata": {
      "image/png": {
       "height": 240,
       "width": 360
      }
     },
     "output_type": "display_data"
    }
   ],
   "source": [
    "options(repr.plot.width=6, repr.plot.height=4)\n",
    "DimPlot(sc_seurat,reduction=\"umap\",group.by=c(\"cellLabels\"), \n",
    "               #label = F, raster=FALSE,\n",
    "       order=c(\"CPlink+ cells\", \"CPlink- cells\", \"Background\"),\n",
    "        cols = c(\"#e11a1d\", \"#387db8\", \"grey\" ))+labs(title = NULL)+\n",
    "scale_colour_discrete(breaks=c(\"CPlink+ cells\", \"CPlink- cells\", \"Background\"), type= c(\"grey\", \"#387db8\", \"#e11a1d\"))+\n",
    "     theme_classic(base_size = 16, base_rect_size = 1.5)+\n",
    "     theme(#panel.grid = element_blank(), axis.ticks = element_blank(),\n",
    "         #  legend.position = c(0.8,0.1),\n",
    "          # panel.border = element_blank(),\n",
    "          # axis.text = element_blank(),\n",
    "           axis.title = element_blank(),\n",
    "           plot.title = element_text( colour = \"black\"),\n",
    "          legend.text = element_text( colour = \"black\")\n",
    "          )"
   ]
  },
  {
   "cell_type": "code",
   "execution_count": 9,
   "id": "d41ae10a",
   "metadata": {},
   "outputs": [
    {
     "name": "stderr",
     "output_type": "stream",
     "text": [
      "\u001b[1m\u001b[22mScale for \u001b[32mcolour\u001b[39m is already present.\n",
      "Adding another scale for \u001b[32mcolour\u001b[39m, which will replace the existing scale.\n"
     ]
    },
    {
     "data": {
      "image/png": "[encoded data removed]",
      "text/plain": [
       "plot without title"
      ]
     },
     "metadata": {
      "image/png": {
       "height": 240,
       "width": 300
      }
     },
     "output_type": "display_data"
    }
   ],
   "source": [
    "options(repr.plot.width=5, repr.plot.height=4)\n",
    "FeaturePlot(sc_seurat,\n",
    "            features = \"CPlinkScore\", raster=FALSE, label = FALSE) +\n",
    "            scale_color_gradientn(colors = c(\"#475496\", \"#F5F5F5\", \"darkred\"))+\n",
    "labs(title = NULL)+\n",
    "     theme_classic(base_size = 16, base_rect_size = 1.5)+\n",
    "     theme(panel.grid = element_blank(), axis.ticks = element_blank(),legend.position = \"right\",\n",
    "           panel.border = element_blank(),\n",
    "           axis.text = element_blank(),\n",
    "           axis.title = element_text(size = 0, hjust = 0, colour = \"black\"), \n",
    "           plot.title = element_text( hjust=0.5, colour = \"black\"),\n",
    "          legend.text = element_text(colour = \"black\")\n",
    "          ) +\n",
    "  guides(color = guide_colorbar(title = \"CPlink \\nscores\"))"
   ]
  },
  {
   "cell_type": "code",
   "execution_count": 10,
   "id": "b410afbb",
   "metadata": {},
   "outputs": [
    {
     "data": {
      "text/plain": [
       "R version 4.3.3 (2024-02-29)\n",
       "Platform: x86_64-conda-linux-gnu (64-bit)\n",
       "Running under: Ubuntu 22.10\n",
       "\n",
       "Matrix products: default\n",
       "BLAS/LAPACK: /home/server/anaconda3/envs/CPlinkTest/lib/libopenblasp-r0.3.27.so;  LAPACK version 3.12.0\n",
       "\n",
       "locale:\n",
       " [1] LC_CTYPE=zh_CN.UTF-8       LC_NUMERIC=C              \n",
       " [3] LC_TIME=zh_CN.UTF-8        LC_COLLATE=zh_CN.UTF-8    \n",
       " [5] LC_MONETARY=zh_CN.UTF-8    LC_MESSAGES=zh_CN.UTF-8   \n",
       " [7] LC_PAPER=zh_CN.UTF-8       LC_NAME=C                 \n",
       " [9] LC_ADDRESS=C               LC_TELEPHONE=C            \n",
       "[11] LC_MEASUREMENT=zh_CN.UTF-8 LC_IDENTIFICATION=C       \n",
       "\n",
       "time zone: Asia/Shanghai\n",
       "tzcode source: system (glibc)\n",
       "\n",
       "attached base packages:\n",
       "[1] stats4    stats     graphics  grDevices utils     datasets  methods  \n",
       "[8] base     \n",
       "\n",
       "other attached packages:\n",
       " [1] CelliD_1.10.1               SingleCellExperiment_1.22.0\n",
       " [3] CPlink_0.1.0                ggplot2_3.5.1              \n",
       " [5] harmony_0.1.1               Rcpp_1.0.13                \n",
       " [7] SeuratObject_5.0.2          Seurat_4.4.0               \n",
       " [9] DESeq2_1.42.1               SummarizedExperiment_1.32.0\n",
       "[11] Biobase_2.62.0              MatrixGenerics_1.14.0      \n",
       "[13] matrixStats_1.3.0           GenomicRanges_1.54.1       \n",
       "[15] GenomeInfoDb_1.38.8         IRanges_2.36.0             \n",
       "[17] S4Vectors_0.40.2            BiocGenerics_0.48.1        \n",
       "\n",
       "loaded via a namespace (and not attached):\n",
       "  [1] RcppAnnoy_0.0.22          splines_4.3.3            \n",
       "  [3] later_1.3.2               pbdZMQ_0.3-11            \n",
       "  [5] bitops_1.0-8              tibble_3.2.1             \n",
       "  [7] polyclip_1.10-7           lifecycle_1.0.4          \n",
       "  [9] globals_0.16.3            lattice_0.22-6           \n",
       " [11] MASS_7.3-60.0.1           magrittr_2.0.3           \n",
       " [13] plotly_4.10.4             httpuv_1.6.15            \n",
       " [15] sctransform_0.4.1         askpass_1.2.0            \n",
       " [17] spam_2.10-0               sp_2.1-4                 \n",
       " [19] spatstat.sparse_3.1-0     reticulate_1.42.0        \n",
       " [21] cowplot_1.1.3             pbapply_1.7-2            \n",
       " [23] RColorBrewer_1.1-3        abind_1.4-5              \n",
       " [25] zlibbioc_1.48.2           Rtsne_0.17               \n",
       " [27] purrr_1.0.2               RCurl_1.98-1.16          \n",
       " [29] GenomeInfoDbData_1.2.12   ggrepel_0.9.5            \n",
       " [31] irlba_2.3.5.1             listenv_0.9.1            \n",
       " [33] spatstat.utils_3.0-5      umap_0.2.10.0            \n",
       " [35] RSpectra_0.16-2           goftest_1.2-3            \n",
       " [37] spatstat.random_3.3-1     fitdistrplus_1.2-1       \n",
       " [39] parallelly_1.38.0         DelayedMatrixStats_1.24.0\n",
       " [41] leiden_0.4.3.1            codetools_0.2-20         \n",
       " [43] DelayedArray_0.28.0       scuttle_1.10.3           \n",
       " [45] tidyselect_1.2.1          farver_2.1.2             \n",
       " [47] ScaledMatrix_1.8.1        viridis_0.6.5            \n",
       " [49] base64enc_0.1-3           spatstat.explore_3.3-1   \n",
       " [51] jsonlite_1.8.8            BiocNeighbors_1.18.0     \n",
       " [53] progressr_0.14.0          ggridges_0.5.6           \n",
       " [55] survival_3.7-0            scater_1.28.0            \n",
       " [57] tictoc_1.2.1              tools_4.3.3              \n",
       " [59] ica_1.0-3                 glue_1.7.0               \n",
       " [61] gridExtra_2.3             SparseArray_1.2.4        \n",
       " [63] IRdisplay_1.1             dplyr_1.1.4              \n",
       " [65] withr_3.0.1               fastmap_1.2.0            \n",
       " [67] fansi_1.0.6               openssl_2.2.0            \n",
       " [69] digest_0.6.36             rsvd_1.0.5               \n",
       " [71] R6_2.5.1                  mime_0.12                \n",
       " [73] colorspace_2.1-1          Cairo_1.6-2              \n",
       " [75] scattermore_1.2           tensor_1.5               \n",
       " [77] spatstat.data_3.1-2       utf8_1.2.4               \n",
       " [79] tidyr_1.3.1               generics_0.1.3           \n",
       " [81] data.table_1.15.4         httr_1.4.7               \n",
       " [83] htmlwidgets_1.6.4         S4Arrays_1.2.1           \n",
       " [85] uwot_0.2.2                pkgconfig_2.0.3          \n",
       " [87] gtable_0.3.5              lmtest_0.9-40            \n",
       " [89] XVector_0.42.0            htmltools_0.5.8.1        \n",
       " [91] dotCall64_1.1-1           fgsea_1.26.0             \n",
       " [93] scales_1.3.0              png_0.1-8                \n",
       " [95] spatstat.univar_3.0-0     reshape2_1.4.4           \n",
       " [97] uuid_1.2-1                nlme_3.1-165             \n",
       " [99] repr_1.1.7                zoo_1.8-12               \n",
       "[101] stringr_1.5.1             KernSmooth_2.23-24       \n",
       "[103] parallel_4.3.3            miniUI_0.1.1.1           \n",
       "[105] vipor_0.4.7               pillar_1.9.0             \n",
       "[107] grid_4.3.3                vctrs_0.6.5              \n",
       "[109] RANN_2.6.1                promises_1.3.0           \n",
       "[111] BiocSingular_1.16.0       beachmat_2.16.0          \n",
       "[113] xtable_1.8-4              cluster_2.1.6            \n",
       "[115] beeswarm_0.4.0            evaluate_0.24.0          \n",
       "[117] cli_3.6.3                 locfit_1.5-9.10          \n",
       "[119] compiler_4.3.3            rlang_1.1.4              \n",
       "[121] crayon_1.5.3              future.apply_1.11.2      \n",
       "[123] labeling_0.4.3            RcppArmadillo_14.0.0-1   \n",
       "[125] plyr_1.8.9                ggbeeswarm_0.7.2         \n",
       "[127] stringi_1.8.4             viridisLite_0.4.2        \n",
       "[129] deldir_2.0-4              BiocParallel_1.36.0      \n",
       "[131] munsell_0.5.1             lazyeval_0.2.2           \n",
       "[133] spatstat.geom_3.3-2       Matrix_1.6-5             \n",
       "[135] IRkernel_1.3.2            patchwork_1.2.0          \n",
       "[137] sparseMatrixStats_1.14.0  future_1.34.0            \n",
       "[139] shiny_1.9.1               ROCR_1.0-11              \n",
       "[141] igraph_2.0.3              fastmatch_1.1-4          "
      ]
     },
     "metadata": {},
     "output_type": "display_data"
    }
   ],
   "source": [
    "sessionInfo()"
   ]
  },
  {
   "cell_type": "code",
   "execution_count": null,
   "id": "c8660db6",
   "metadata": {},
   "outputs": [],
   "source": []
  }
 ],
 "metadata": {
  "kernelspec": {
   "display_name": "RCPlinkTest",
   "language": "R",
   "name": "rcplinktest"
  },
  "language_info": {
   "codemirror_mode": "r",
   "file_extension": ".r",
   "mimetype": "text/x-r-source",
   "name": "R",
   "pygments_lexer": "r",
   "version": "4.3.3"
  }
 },
 "nbformat": 4,
 "nbformat_minor": 5
}
